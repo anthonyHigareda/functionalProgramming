{
 "cells": [
  {
   "cell_type": "markdown",
   "metadata": {},
   "source": [
    "## Introduction to Functional Programming\n",
    "\n",
    "In the modern programming world we have Object Orientated Programming (OOP) and Functional Programming (FP). Both have been around for a long time but in this introduction, we will be contrasting FP against OOP.\n",
    "\n",
    "Here’s an example in python of a Pure (stateless) Function:"
   ]
  },
  {
   "cell_type": "code",
   "metadata": {
    "ExecuteTime": {
     "end_time": "2025-09-24T00:27:28.069048Z",
     "start_time": "2025-09-24T00:27:28.066198Z"
    }
   },
   "source": [
    "def add(x, y):\n",
    "    return x + y"
   ],
   "outputs": [],
   "execution_count": 1
  },
  {
   "cell_type": "markdown",
   "metadata": {},
   "source": [
    "It’s a pure function since it only deals with its inputs. It does add, but since it doesn’t return the results, it’s useless.\n",
    "\n",
    "Pure Functions will always produce the same output given the same inputs."
   ]
  },
  {
   "cell_type": "code",
   "metadata": {
    "ExecuteTime": {
     "end_time": "2025-09-24T00:27:28.077648Z",
     "start_time": "2025-09-24T00:27:28.073572Z"
    }
   },
   "source": [
    "print(add(1,3))\n",
    "print(add(1,3))\n",
    "print(add(1,3))"
   ],
   "outputs": [
    {
     "name": "stdout",
     "output_type": "stream",
     "text": [
      "4\n",
      "4\n",
      "4\n"
     ]
    }
   ],
   "execution_count": 2
  },
  {
   "cell_type": "markdown",
   "metadata": {},
   "source": [
    "Pure functions have no side effects and are expexted to return the same output everytime.\n",
    "\n",
    "In Imperative Programming Languages such as Javascript, Java, and C#, Side Effects are everywhere. \n",
    "\n",
    "This makes debugging very difficult because a variable can be changed anywhere in your program. So when you have a bug because a variable is changed to the wrong value at the wrong time, where do you look? Everywhere? That’s not good.\n",
    "\n",
    "\n",
    "## Immutability\n",
    "\n",
    "In Imperative Programming, it is common to have mutate a variable and return the mutated variable in a function. This means it takes the current value of `x` adds `1` to it and put that result back into `x`.\n",
    "\n",
    "Well, in functional programming, `x = x + 1` is illegal. There are no instance/global variables in FP\n",
    "\n",
    "Stored values are still called variables because of history but they are constants, i.e. once `x` takes on a value, it’s that value for life.\n",
    "\n",
    "Not to worry though, `x` is can still be a local variable but while it’s alive, it can never change.\n",
    "\n",
    "Here’s an example of constant variables in Python"
   ]
  },
  {
   "cell_type": "code",
   "metadata": {
    "ExecuteTime": {
     "end_time": "2025-09-24T00:28:42.561224Z",
     "start_time": "2025-09-24T00:28:42.557897Z"
    }
   },
   "source": [
    "def add_one_to_sum(y, z):\n",
    "    x = 1\n",
    "    return x + y + z\n",
    "\n",
    "print(add_one_to_sum(10,5))"
   ],
   "outputs": [
    {
     "name": "stdout",
     "output_type": "stream",
     "text": [
      "16\n"
     ]
    }
   ],
   "execution_count": 3
  },
  {
   "cell_type": "markdown",
   "metadata": {},
   "source": [
    "## FP replaces Loops with Recursion\n",
    "\n",
    "Here's an example of a python for loop. Note - see how each iteration has side effects on the `total` variable"
   ]
  },
  {
   "cell_type": "code",
   "metadata": {
    "ExecuteTime": {
     "end_time": "2025-09-24T00:28:49.844702Z",
     "start_time": "2025-09-24T00:28:49.842198Z"
    }
   },
   "source": [
    "total = 0\n",
    "for num in range(10):\n",
    "    total += num\n",
    "\n",
    "print(total)"
   ],
   "outputs": [
    {
     "name": "stdout",
     "output_type": "stream",
     "text": [
      "45\n"
     ]
    }
   ],
   "execution_count": 4
  },
  {
   "cell_type": "markdown",
   "metadata": {},
   "source": [
    "Here is an example of using recursion to solve the same problem. We will need to import the `reduce` function from pythons functools, and will also need to use python's `lambda` function.\n",
    "\n",
    "Under the hood the reduce function generates a new list then reduces it to a single value and sets total to the value of the function.\n",
    "\n",
    "It is debatable whether this creates more readable/debuggable code, but it is a \"Pure Functional\" approach."
   ]
  },
  {
   "cell_type": "code",
   "metadata": {
    "ExecuteTime": {
     "end_time": "2025-09-24T00:29:23.515612Z",
     "start_time": "2025-09-24T00:29:23.513436Z"
    }
   },
   "source": [
    "from functools import reduce\n",
    "\n",
    "total = reduce(lambda x, y: x + y,range(10))\n",
    "print(total)"
   ],
   "outputs": [
    {
     "name": "stdout",
     "output_type": "stream",
     "text": [
      "45\n"
     ]
    }
   ],
   "execution_count": 5
  },
  {
   "cell_type": "markdown",
   "metadata": {},
   "source": [
    "## FP List term replacement approaches\n",
    "Here are a few examples of different ways we can replace items in lists"
   ]
  },
  {
   "cell_type": "code",
   "metadata": {
    "ExecuteTime": {
     "end_time": "2025-09-24T00:29:36.558526Z",
     "start_time": "2025-09-24T00:29:36.556208Z"
    }
   },
   "source": [
    "test_list = ['Santa', 'Klaus', 'is', 'coming', '2', 'town'] \n",
    "  \n",
    "print(\"The original list : \" + str(test_list )) "
   ],
   "outputs": [
    {
     "name": "stdout",
     "output_type": "stream",
     "text": [
      "The original list : ['Santa', 'Klaus', 'is', 'coming', '2', 'town']\n"
     ]
    }
   ],
   "execution_count": 6
  },
  {
   "cell_type": "code",
   "metadata": {
    "ExecuteTime": {
     "end_time": "2025-09-24T00:29:49.664740Z",
     "start_time": "2025-09-24T00:29:49.661895Z"
    }
   },
   "source": [
    "res = [sub.replace('2', 'to') for sub in test_list] \n",
    "print(\"The list after substring replacement : \" + str(res)) "
   ],
   "outputs": [
    {
     "name": "stdout",
     "output_type": "stream",
     "text": [
      "The list after substring replacement : ['Santa', 'Klaus', 'is', 'coming', 'to', 'town']\n"
     ]
    }
   ],
   "execution_count": 7
  },
  {
   "cell_type": "code",
   "metadata": {
    "ExecuteTime": {
     "end_time": "2025-09-24T00:30:00.306929Z",
     "start_time": "2025-09-24T00:30:00.304247Z"
    }
   },
   "source": [
    "res2 = list(map(lambda st: str.replace(st, \"2\", \"too\"), test_list)) \n",
    "print(\"The list after substring replacement : \" + str(res2)) "
   ],
   "outputs": [
    {
     "name": "stdout",
     "output_type": "stream",
     "text": [
      "The list after substring replacement : ['Santa', 'Klaus', 'is', 'coming', 'too', 'town']\n"
     ]
    }
   ],
   "execution_count": 8
  },
  {
   "cell_type": "markdown",
   "metadata": {},
   "source": [
    "You can also pass your own functions into a lambda expression. Implement the #FIXME code below to create a functional function that enables the appropriate replacement."
   ]
  },
  {
   "cell_type": "code",
   "metadata": {
    "ExecuteTime": {
     "end_time": "2025-09-24T00:33:24.833979Z",
     "start_time": "2025-09-24T00:33:24.830777Z"
    }
   },
   "source": [
    "def my_replace(s, before, after):\n",
    "    if s == before:\n",
    "        return after\n",
    "    else:\n",
    "        return s\n",
    "\n",
    "res3 = list(map(lambda st: my_replace(st, \"2\", \"two\"), test_list)) \n",
    "print(\"The list after substring replacement : \" + str(res3)) "
   ],
   "outputs": [
    {
     "name": "stdout",
     "output_type": "stream",
     "text": [
      "The list after substring replacement : ['Santa', 'Klaus', 'is', 'coming', 'two', 'town']\n"
     ]
    }
   ],
   "execution_count": 11
  },
  {
   "cell_type": "markdown",
   "metadata": {},
   "source": [
    "What if you want to use a dictionary to replace items in a string?"
   ]
  },
  {
   "cell_type": "code",
   "metadata": {
    "ExecuteTime": {
     "end_time": "2025-09-24T00:35:07.803269Z",
     "start_time": "2025-09-24T00:35:07.800997Z"
    }
   },
   "source": [
    "cardinality = {\"north\":\"N\", \"south\":\"S\", \"east\":\"E\", \"west\":\"W\" }\n",
    "address = \"123 north anywhere street\""
   ],
   "outputs": [],
   "execution_count": 14
  },
  {
   "cell_type": "code",
   "metadata": {
    "ExecuteTime": {
     "end_time": "2025-09-24T00:35:08.806456Z",
     "start_time": "2025-09-24T00:35:08.803738Z"
    }
   },
   "source": [
    "#joins all items in the iterable into a single string separated by spaces\n",
    "\n",
    "#cardinality.get(ele, ele) returns the value for the key ele if it is in the \n",
    "#dictionary, else it returns ele\n",
    "print(\" \".join(cardinality.get(ele, ele) for ele in address.split()))"
   ],
   "outputs": [
    {
     "name": "stdout",
     "output_type": "stream",
     "text": [
      "123 N anywhere street\n"
     ]
    }
   ],
   "execution_count": 15
  },
  {
   "cell_type": "markdown",
   "metadata": {},
   "source": [
    "Can you do it with a functional approach with lists?\n",
    "\n",
    "Replace the #FIXME code below"
   ]
  },
  {
   "cell_type": "code",
   "metadata": {
    "ExecuteTime": {
     "end_time": "2025-09-24T00:35:03.866983Z",
     "start_time": "2025-09-24T00:35:03.864430Z"
    }
   },
   "source": [
    "address_list = ['123', 'north', 'anywhere', 'street']"
   ],
   "outputs": [],
   "execution_count": 12
  },
  {
   "cell_type": "code",
   "metadata": {
    "ExecuteTime": {
     "end_time": "2025-09-24T00:35:10.481945Z",
     "start_time": "2025-09-24T00:35:10.479629Z"
    }
   },
   "source": [
    "def dict_replace(s, d):\n",
    "    if s in d:\n",
    "        return d.get(s)\n",
    "    else:\n",
    "        return s"
   ],
   "outputs": [],
   "execution_count": 16
  },
  {
   "cell_type": "code",
   "metadata": {
    "ExecuteTime": {
     "end_time": "2025-09-24T00:35:11.874261Z",
     "start_time": "2025-09-24T00:35:11.871841Z"
    }
   },
   "source": [
    "print(list(map(lambda s: dict_replace(s, cardinality), address_list)))"
   ],
   "outputs": [
    {
     "name": "stdout",
     "output_type": "stream",
     "text": [
      "['123', 'N', 'anywhere', 'street']\n"
     ]
    }
   ],
   "execution_count": 17
  },
  {
   "cell_type": "code",
   "execution_count": null,
   "metadata": {},
   "outputs": [],
   "source": []
  }
 ],
 "metadata": {
  "kernelspec": {
   "display_name": "Python [conda env:base] *",
   "language": "python",
   "name": "conda-base-py"
  },
  "language_info": {
   "codemirror_mode": {
    "name": "ipython",
    "version": 3
   },
   "file_extension": ".py",
   "mimetype": "text/x-python",
   "name": "python",
   "nbconvert_exporter": "python",
   "pygments_lexer": "ipython3",
   "version": "3.11.10"
  }
 },
 "nbformat": 4,
 "nbformat_minor": 4
}
